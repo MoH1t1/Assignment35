{
  "metadata": {
    "kernelspec": {
      "name": "python",
      "display_name": "Python (Pyodide)",
      "language": "python"
    },
    "language_info": {
      "codemirror_mode": {
        "name": "python",
        "version": 3
      },
      "file_extension": ".py",
      "mimetype": "text/x-python",
      "name": "python",
      "nbconvert_exporter": "python",
      "pygments_lexer": "ipython3",
      "version": "3.8"
    }
  },
  "nbformat_minor": 4,
  "nbformat": 4,
  "cells": [
    {
      "cell_type": "code",
      "source": "# Q1. Write a Python function that takes in two arrays of data and calculates the F-value for a variance ratio\n# test. The function should return the F-value and the corresponding p-value for the test.\n\nimport scipy.stats as stats\nimport numpy as np\n\ndef f_test(data1, data2):\n    var1 = np.var(data1, ddof=1)\n    var2 = np.var(data2, ddof=1)\n    F_value = var1 / var2 if var1 > var2 else var2 / var1\n    df1 = len(data1) - 1\n    df2 = len(data2) - 1\n    p_value = 1 - stats.f.cdf(F_value, df1, df2)\n    return F_value, p_value\n\ndata1 = [23, 29, 21, 25, 27, 22, 24]\ndata2 = [31, 35, 29, 33, 32, 30, 34]\n\nF_value, p_value = f_test(data1, data2)\nprint(f\"F-value: {F_value}\")\nprint(f\"P-value: {p_value}\")",
      "metadata": {
        "trusted": true
      },
      "outputs": [
        {
          "name": "stdout",
          "text": "F-value: 1.7040816326530615\nP-value: 0.26670472889711405\n",
          "output_type": "stream"
        }
      ],
      "execution_count": 5
    },
    {
      "cell_type": "code",
      "source": "# Q2. Given a significance level of 0.05 and the degrees of freedom for the numerator and denominator of an\n# F-distribution, write a Python function that returns the critical F-value for a two-tailed test.\n\nimport scipy.stats as stats\n\ndef critical_f_value(alpha, df1, df2):\n    return stats.f.ppf(1 - alpha/2, df1, df2)\n\nalpha = 0.05\ndf1 = 10\ndf2 = 15\nF_critical = critical_f_value(alpha, df1, df2)\nprint(f\"Critical F-value: {F_critical}\")",
      "metadata": {
        "trusted": true
      },
      "outputs": [
        {
          "name": "stdout",
          "text": "Critical F-value: 3.060196851411249\n",
          "output_type": "stream"
        }
      ],
      "execution_count": 6
    },
    {
      "cell_type": "code",
      "source": "# Q3. Write a Python program that generates random samples from two normal distributions with known\n# variances and uses an F-test to determine if the variances are equal. The program should output the F-\n# value, degrees of freedom, and p-value for the test.\n\nimport numpy as np\nimport scipy.stats as stats\nnp.random.seed(42)\n\nsample1 = np.random.normal(loc=0, scale=np.sqrt(10), size=30)\nsample2 = np.random.normal(loc=0, scale=np.sqrt(15), size=30)\n\nvar1 = np.var(sample1, ddof=1)\nvar2 = np.var(sample2, ddof=1)\n\nF_value = var1 / var2 if var1 > var2 else var2 / var1\n\ndf1 = len(sample1) - 1\ndf2 = len(sample2) - 1\n\np_value = 1 - stats.f.cdf(F_value, df1, df2)\n\nprint(f\"F-value: {F_value}, Degrees of Freedom: ({df1}, {df2}), p-value: {p_value}\")\n",
      "metadata": {
        "trusted": true
      },
      "outputs": [
        {
          "name": "stdout",
          "text": "F-value: 1.6054424447517857, Degrees of Freedom: (29, 29), p-value: 0.10420460064830606\n",
          "output_type": "stream"
        }
      ],
      "execution_count": 3
    },
    {
      "cell_type": "code",
      "source": "# Q4.The variances of two populations are known to be 10 and 15. A sample of 12 observations is taken from\n# each population. Conduct an F-test at the 5% significance level to determine if the variances are\n# significantly different.\n\nimport scipy.stats as stats\n\nvar1 = 10\nvar2 = 15\nn1 = 12\nn2 = 12\n\nF_value = var1 / var2 if var1 > var2 else var2 / var1\n\ndf1 = n1 - 1\ndf2 = n2 - 1\n\np_value = 1 - stats.f.cdf(F_value, df1, df2)\n\nalpha = 0.05\n\nif p_value < alpha:\n    print(f\"Reject null hypothesis: Variances are significantly different (p-value = {p_value})\")\nelse:\n    print(f\"Fail to reject null hypothesis: Variances are not significantly different (p-value = {p_value})\")\n",
      "metadata": {
        "trusted": true
      },
      "outputs": [
        {
          "name": "stdout",
          "text": "Fail to reject null hypothesis: Variances are not significantly different (p-value = 0.25619489936789974)\n",
          "output_type": "stream"
        }
      ],
      "execution_count": 7
    },
    {
      "cell_type": "code",
      "source": "# Q5. A manufacturer claims that the variance of the diameter of a certain product is 0.005. A sample of 25\n# products is taken, and the sample variance is found to be 0.006. Conduct an F-test at the 1% significance\n# level to determine if the claim is justified.\n\nimport scipy.stats as stats\n\nsample_var = 0.006\nclaimed_var = 0.005\nn = 25\nalpha = 0.01\n\nF_value = sample_var / claimed_var\n\ndf1 = n - 1\ndf2 = n - 1\n\np_value = 1 - stats.f.cdf(F_value, df1, df2)\n\nif p_value < alpha:\n    print(f\"Reject the manufacturer's claim (p-value = {p_value})\")\nelse:\n    print(f\"Fail to reject the manufacturer's claim (p-value = {p_value})\")\n",
      "metadata": {
        "trusted": true
      },
      "outputs": [
        {
          "name": "stdout",
          "text": "Fail to reject the manufacturer's claim (p-value = 0.3293654682817244)\n",
          "output_type": "stream"
        }
      ],
      "execution_count": 8
    },
    {
      "cell_type": "code",
      "source": "# Q6. Write a Python function that takes in the degrees of freedom for the numerator and denominator of an\n# F-distribution and calculates the mean and variance of the distribution. The function should return the\n# mean and variance as a tuple.\n\ndef f_distribution_mean_variance(df1, df2):\n    mean = df2 / (df2 - 2) if df2 > 2 else None\n    variance = (2 * df2**2 * (df1 + df2 - 2)) / (df1 * (df2 - 2)**2 * (df2 - 4)) if df2 > 4 else None\n    return mean, variance\n\ndf1 = 5\ndf2 = 10\n\nmean, variance = f_distribution_mean_variance(df1, df2)\n\nif mean is not None:\n    print(f\"Mean of the F-distribution: {mean}\")\nelse:\n    print(\"Mean is undefined for the given degrees of freedom.\")\n\nif variance is not None:\n    print(f\"Variance of the F-distribution: {variance}\")\nelse:\n    print(\"Variance is undefined for the given degrees of freedom.\")",
      "metadata": {
        "trusted": true
      },
      "outputs": [
        {
          "name": "stdout",
          "text": "Mean of the F-distribution: 1.25\nVariance of the F-distribution: 1.3541666666666667\n",
          "output_type": "stream"
        }
      ],
      "execution_count": 12
    },
    {
      "cell_type": "code",
      "source": "# Q7. A random sample of 10 measurements is taken from a normal population with unknown variance. The\n# sample variance is found to be 25. Another random sample of 15 measurements is taken from another\n# normal population with unknown variance, and the sample variance is found to be 20. Conduct an F-test\n# at the 10% significance level to determine if the variances are significantly different.\n\nimport numpy as np\nimport scipy.stats as stats\n\nsample1 = np.random.normal(0, np.sqrt(25), 10)\nsample2 = np.random.normal(0, np.sqrt(20), 15)\nvar1 = np.var(sample1, ddof=1)\nvar2 = np.var(sample2, ddof=1)\nF_value = var1 / var2 if var1 > var2 else var2 / var1\n\ndf1 = len(sample1) - 1\ndf2 = len(sample2) - 1\np_value = 1 - stats.f.cdf(F_value, df1, df2)\nalpha = 0.10\n\nif p_value < alpha:\n    print(f\"Reject null hypothesis: Variances are significantly different (p-value = {p_value})\")\nelse:\n    print(f\"Fail to reject null hypothesis: Variances are not significantly different (p-value = {p_value})\")\n",
      "metadata": {
        "trusted": true
      },
      "outputs": [
        {
          "name": "stdout",
          "text": "Fail to reject null hypothesis: Variances are not significantly different (p-value = 0.25303241375763474)\n",
          "output_type": "stream"
        }
      ],
      "execution_count": 9
    },
    {
      "cell_type": "code",
      "source": "# Q8. The following data represent the waiting times in minutes at two different restaurants on a Saturday\n# night: Restaurant A: 24, 25, 28, 23, 22, 20, 27; Restaurant B: 31, 33, 35, 30, 32, 36. Conduct an F-test at the 5%\n# significance level to determine if the variances are significantly different.\n\nimport scipy.stats as stats\nimport numpy as np\n\nA = [24, 25, 28, 23, 22, 20, 27]\nB = [31, 33, 35, 30, 32, 36]\n\nvar_A = np.var(A, ddof=1)\nvar_B = np.var(B, ddof=1)\n\nF_value = var_A / var_B if var_A > var_B else var_B / var_A\n\ndf_A = len(A) - 1\ndf_B = len(B) - 1\n\np_value = 1 - stats.f.cdf(F_value, df_A, df_B)\n\nalpha = 0.05\nif p_value < alpha:\n    print(f\"Reject null hypothesis: Variances are significantly different (p-value = {p_value})\")\nelse:\n    print(f\"Fail to reject null hypothesis: Variances are not significantly different (p-value = {p_value})\")\n",
      "metadata": {
        "trusted": true
      },
      "outputs": [
        {
          "name": "stdout",
          "text": "Fail to reject null hypothesis: Variances are not significantly different (p-value = 0.3487407873968742)\n",
          "output_type": "stream"
        }
      ],
      "execution_count": 10
    },
    {
      "cell_type": "code",
      "source": "# Q9. The following data represent the test scores of two groups of students: Group A: 80, 85, 90, 92, 87, 83;\n# Group B: 75, 78, 82, 79, 81, 84. Conduct an F-test at the 1% significance level to determine if the variances\n# are significantly different.\n\nimport scipy.stats as stats\nimport numpy as np\n\nA = [80, 85, 90, 92, 87, 83]\nB = [75, 78, 82, 79, 81, 84]\n\nvar_A = np.var(A, ddof=1)\nvar_B = np.var(B, ddof=1)\n\nF_value = var_A / var_B if var_A > var_B else var_B / var_A\n\ndf_A = len(A) - 1\ndf_B = len(B) - 1\n\np_value = 1 - stats.f.cdf(F_value, df_A, df_B)\n\nalpha = 0.01\nif p_value < alpha:\n    print(f\"Reject null hypothesis: Variances are significantly different (p-value = {p_value})\")\nelse:\n    print(f\"Fail to reject null hypothesis: Variances are not significantly different (p-value = {p_value})\")\n",
      "metadata": {
        "trusted": true
      },
      "outputs": [
        {
          "name": "stdout",
          "text": "Fail to reject null hypothesis: Variances are not significantly different (p-value = 0.2415521774535344)\n",
          "output_type": "stream"
        }
      ],
      "execution_count": 11
    },
    {
      "cell_type": "code",
      "source": "",
      "metadata": {
        "trusted": true
      },
      "outputs": [],
      "execution_count": null
    }
  ]
}